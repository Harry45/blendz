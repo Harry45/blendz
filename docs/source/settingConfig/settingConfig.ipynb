{
 "cells": [
  {
   "cell_type": "markdown",
   "metadata": {},
   "source": [
    "# Setting the configuration"
   ]
  },
  {
   "cell_type": "code",
   "execution_count": 1,
   "metadata": {
    "collapsed": true
   },
   "outputs": [],
   "source": [
    "import blendz"
   ]
  },
  {
   "cell_type": "markdown",
   "metadata": {},
   "source": [
    "Classes in ``blendz`` use a ``Configuration`` object instance to manage all of their settings. These *can* be created directly by instantiating the class, and passed to classes that require them using the ``config`` keyword argument:"
   ]
  },
  {
   "cell_type": "code",
   "execution_count": 2,
   "metadata": {},
   "outputs": [],
   "source": [
    "cfg = blendz.Configuration(configuration_option='setting_value')\n",
    "templates = blendz.fluxes.Templates(config=cfg)"
   ]
  },
  {
   "cell_type": "markdown",
   "metadata": {},
   "source": [
    "However, constructing the configuration like this is usually not necessary. The ``photoz`` class is designed as the only user-facing class and handles the configuration for all of the classes it depends on. Instead, there are two recommended ways of setting the configuration:"
   ]
  },
  {
   "cell_type": "markdown",
   "metadata": {},
   "source": [
    "## Passing keyword arguments to classes"
   ]
  },
  {
   "cell_type": "markdown",
   "metadata": {},
   "source": [
    "The configuration can be set programmatically by passing settings as keyword arguments:"
   ]
  },
  {
   "cell_type": "code",
   "execution_count": 3,
   "metadata": {},
   "outputs": [
    {
     "name": "stderr",
     "output_type": "stream",
     "text": [
      "/home/dan/anaconda2/lib/python2.7/site-packages/blendz/model/bpz.py:65: RuntimeWarning: divide by zero encountered in log\n",
      "  first = (self.prior_params['alpha_t'][template_type] * np.log(redshift))\n"
     ]
    }
   ],
   "source": [
    "from os.path import join\n",
    "\n",
    "data = blendz.Photoz(data_path=join(blendz.RESOURCE_PATH, 'data/bpz/UDFzspec.cat'),\n",
    "                                    mag_cols = [22, 24, 26, 28, 30, 31], \n",
    "                                    sigma_cols = [23, 25, 27, 29, 31, 33], \n",
    "                                    #####################################################################\n",
    "                                    #Settings in here shouldn't be necessary - remove them\n",
    "                                    filter_file_extension='.res',\n",
    "                                    spec_z_col=7,\n",
    "                                    #####################################################################\n",
    "                                    ref_band = 2, \n",
    "                                    zero_point_errors = [0.01, 0.01, 0.01, 0.01, 0.01, 0.01],\n",
    "                                    filters=['HST_ACS_WFC_F435W', 'HST_ACS_WFC_F606W', 'HST_ACS_WFC_F775W', \\\n",
    "                                             'HST_ACS_WFC_F850LP', 'nic3_f110w', 'nic3_f160w'])"
   ]
  },
  {
   "cell_type": "markdown",
   "metadata": {},
   "source": [
    "## Read in a config file"
   ]
  },
  {
   "cell_type": "markdown",
   "metadata": {},
   "source": [
    "Configurations can also be read in from a file (or multiple files) by using the ``config_path`` keyword argument. \n",
    "\n",
    "``config_path`` should either be a string of the absolute file path to the configuration file to be read, or a list of strings if you want to read multiple files. "
   ]
  },
  {
   "cell_type": "code",
   "execution_count": 4,
   "metadata": {},
   "outputs": [],
   "source": [
    "path1 = join(blendz.RESOURCE_PATH, 'config/testRunConfig.txt')\n",
    "path2 = join(blendz.RESOURCE_PATH, 'config/testDataConfig.txt')\n",
    "\n",
    "data = blendz.Photoz(config_path=[path1, path2])"
   ]
  },
  {
   "cell_type": "markdown",
   "metadata": {},
   "source": [
    "## All configuration options"
   ]
  }
 ],
 "metadata": {
  "kernelspec": {
   "display_name": "Python 2",
   "language": "python",
   "name": "python2"
  },
  "language_info": {
   "codemirror_mode": {
    "name": "ipython",
    "version": 2
   },
   "file_extension": ".py",
   "mimetype": "text/x-python",
   "name": "python",
   "nbconvert_exporter": "python",
   "pygments_lexer": "ipython2",
   "version": "2.7.13"
  }
 },
 "nbformat": 4,
 "nbformat_minor": 2
}
